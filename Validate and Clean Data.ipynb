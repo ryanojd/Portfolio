{
 "cells": [
  {
   "cell_type": "markdown",
   "id": "91a6b18e",
   "metadata": {
    "id": "1WD1hC5MTRMS"
   },
   "source": [
    "# Validate and Clean Data"
   ]
  },
  {
   "cell_type": "markdown",
   "id": "40f7ad0f",
   "metadata": {
    "id": "4bb9630e-b940-4835-a389-d39def1fa848"
   },
   "source": [
    "## Imports "
   ]
  },
  {
   "cell_type": "markdown",
   "id": "ad593ba5",
   "metadata": {
    "id": "bc180686-4ae2-47ea-a292-3588ac60a820"
   },
   "source": [
    "Import relevant Python libraries and packages: `numpy`, `pandas`, `seaborn`, and `pyplot` from `matplotlib`."
   ]
  },
  {
   "cell_type": "code",
   "execution_count": 1,
   "id": "9fe5a907",
   "metadata": {
    "executionInfo": {
     "elapsed": 179,
     "status": "ok",
     "timestamp": 1663034402893,
     "user": {
      "displayName": "Lavanya Vijayan",
      "userId": "01043085078394539645"
     },
     "user_tz": 420
    },
    "id": "8e7f1f2c-bbcc-4f3c-b927-b090ee8334c4"
   },
   "outputs": [],
   "source": [
    "# Import libraries and packages.\n",
    "import numpy as np\n",
    "import pandas as pd\n",
    "import seaborn as sns\n",
    "import matplotlib.pyplot as plt"
   ]
  },
  {
   "cell_type": "code",
   "execution_count": 2,
   "id": "50801e73",
   "metadata": {},
   "outputs": [],
   "source": [
    "# Displays all columns\n",
    "pd.set_option('display.max_columns', None)"
   ]
  },
  {
   "cell_type": "code",
   "execution_count": 3,
   "id": "eba9bca5",
   "metadata": {
    "colab": {
     "base_uri": "https://localhost:8080/",
     "height": 496
    },
    "executionInfo": {
     "elapsed": 316,
     "status": "ok",
     "timestamp": 1663034403453,
     "user": {
      "displayName": "Lavanya Vijayan",
      "userId": "01043085078394539645"
     },
     "user_tz": 420
    },
    "id": "3bd40d44-080f-4e49-b0c2-160dedc3c4df",
    "outputId": "0f58d4f8-db82-4157-ecec-c6c472ff02cf"
   },
   "outputs": [
    {
     "data": {
      "text/html": [
       "<div>\n",
       "<style scoped>\n",
       "    .dataframe tbody tr th:only-of-type {\n",
       "        vertical-align: middle;\n",
       "    }\n",
       "\n",
       "    .dataframe tbody tr th {\n",
       "        vertical-align: top;\n",
       "    }\n",
       "\n",
       "    .dataframe thead th {\n",
       "        text-align: right;\n",
       "    }\n",
       "</style>\n",
       "<table border=\"1\" class=\"dataframe\">\n",
       "  <thead>\n",
       "    <tr style=\"text-align: right;\">\n",
       "      <th></th>\n",
       "      <th>Company</th>\n",
       "      <th>Valuation</th>\n",
       "      <th>Date Joined</th>\n",
       "      <th>Industry</th>\n",
       "      <th>City</th>\n",
       "      <th>Country/Region</th>\n",
       "      <th>Continent</th>\n",
       "      <th>Year Founded</th>\n",
       "      <th>Funding</th>\n",
       "      <th>Select Investors</th>\n",
       "    </tr>\n",
       "  </thead>\n",
       "  <tbody>\n",
       "    <tr>\n",
       "      <th>0</th>\n",
       "      <td>Bytedance</td>\n",
       "      <td>180</td>\n",
       "      <td>2017-04-07</td>\n",
       "      <td>Artificial intelligence</td>\n",
       "      <td>Beijing</td>\n",
       "      <td>China</td>\n",
       "      <td>Asia</td>\n",
       "      <td>2012</td>\n",
       "      <td>$8B</td>\n",
       "      <td>Sequoia Capital China, SIG Asia Investments, S...</td>\n",
       "    </tr>\n",
       "    <tr>\n",
       "      <th>1</th>\n",
       "      <td>SpaceX</td>\n",
       "      <td>100</td>\n",
       "      <td>2012-12-01</td>\n",
       "      <td>Other</td>\n",
       "      <td>Hawthorne</td>\n",
       "      <td>United States</td>\n",
       "      <td>North America</td>\n",
       "      <td>2002</td>\n",
       "      <td>$7B</td>\n",
       "      <td>Founders Fund, Draper Fisher Jurvetson, Rothen...</td>\n",
       "    </tr>\n",
       "    <tr>\n",
       "      <th>2</th>\n",
       "      <td>SHEIN</td>\n",
       "      <td>100</td>\n",
       "      <td>2018-07-03</td>\n",
       "      <td>E-commerce &amp; direct-to-consumer</td>\n",
       "      <td>Shenzhen</td>\n",
       "      <td>China</td>\n",
       "      <td>Asia</td>\n",
       "      <td>2008</td>\n",
       "      <td>$2B</td>\n",
       "      <td>Tiger Global Management, Sequoia Capital China...</td>\n",
       "    </tr>\n",
       "    <tr>\n",
       "      <th>3</th>\n",
       "      <td>Stripe</td>\n",
       "      <td>95</td>\n",
       "      <td>2014-01-23</td>\n",
       "      <td>FinTech</td>\n",
       "      <td>San Francisco</td>\n",
       "      <td>United States</td>\n",
       "      <td>North America</td>\n",
       "      <td>2010</td>\n",
       "      <td>$2B</td>\n",
       "      <td>Khosla Ventures, LowercaseCapital, capitalG</td>\n",
       "    </tr>\n",
       "    <tr>\n",
       "      <th>4</th>\n",
       "      <td>Klarna</td>\n",
       "      <td>46</td>\n",
       "      <td>2011-12-12</td>\n",
       "      <td>Fintech</td>\n",
       "      <td>Stockholm</td>\n",
       "      <td>Sweden</td>\n",
       "      <td>Europe</td>\n",
       "      <td>2005</td>\n",
       "      <td>$4B</td>\n",
       "      <td>Institutional Venture Partners, Sequoia Capita...</td>\n",
       "    </tr>\n",
       "  </tbody>\n",
       "</table>\n",
       "</div>"
      ],
      "text/plain": [
       "     Company  Valuation Date Joined                         Industry  \\\n",
       "0  Bytedance        180  2017-04-07          Artificial intelligence   \n",
       "1     SpaceX        100  2012-12-01                            Other   \n",
       "2      SHEIN        100  2018-07-03  E-commerce & direct-to-consumer   \n",
       "3     Stripe         95  2014-01-23                          FinTech   \n",
       "4     Klarna         46  2011-12-12                          Fintech   \n",
       "\n",
       "            City Country/Region      Continent  Year Founded Funding  \\\n",
       "0        Beijing          China           Asia          2012     $8B   \n",
       "1      Hawthorne  United States  North America          2002     $7B   \n",
       "2       Shenzhen          China           Asia          2008     $2B   \n",
       "3  San Francisco  United States  North America          2010     $2B   \n",
       "4      Stockholm         Sweden         Europe          2005     $4B   \n",
       "\n",
       "                                    Select Investors  \n",
       "0  Sequoia Capital China, SIG Asia Investments, S...  \n",
       "1  Founders Fund, Draper Fisher Jurvetson, Rothen...  \n",
       "2  Tiger Global Management, Sequoia Capital China...  \n",
       "3        Khosla Ventures, LowercaseCapital, capitalG  \n",
       "4  Institutional Venture Partners, Sequoia Capita...  "
      ]
     },
     "execution_count": 3,
     "metadata": {},
     "output_type": "execute_result"
    }
   ],
   "source": [
    "companies = pd.read_csv('Modified_Unicorn_Companies.csv')\n",
    "\n",
    "# Display the first five rows.\n",
    "companies.head()"
   ]
  },
  {
   "cell_type": "markdown",
   "id": "bf82ae5f",
   "metadata": {
    "id": "95bf39c9-d05c-4324-a40b-bc692607b61b"
   },
   "source": [
    "## Data cleaning"
   ]
  },
  {
   "cell_type": "markdown",
   "id": "def96c42",
   "metadata": {
    "id": "ad17d09c-c829-4e88-9089-83060d1adf91"
   },
   "source": [
    "Begin by displaying the data types of the columns in `companies`."
   ]
  },
  {
   "cell_type": "code",
   "execution_count": 4,
   "id": "1123ec41",
   "metadata": {
    "colab": {
     "base_uri": "https://localhost:8080/"
    },
    "executionInfo": {
     "elapsed": 40,
     "status": "ok",
     "timestamp": 1663034403455,
     "user": {
      "displayName": "Lavanya Vijayan",
      "userId": "01043085078394539645"
     },
     "user_tz": 420
    },
    "id": "5340b9fd-a9e1-4943-b546-eece0049dc3b",
    "outputId": "8dfe05a1-f40f-4634-e339-f64f0b9ac6db"
   },
   "outputs": [
    {
     "data": {
      "text/plain": [
       "Company             object\n",
       "Valuation            int64\n",
       "Date Joined         object\n",
       "Industry            object\n",
       "City                object\n",
       "Country/Region      object\n",
       "Continent           object\n",
       "Year Founded         int64\n",
       "Funding             object\n",
       "Select Investors    object\n",
       "dtype: object"
      ]
     },
     "execution_count": 4,
     "metadata": {},
     "output_type": "execute_result"
    }
   ],
   "source": [
    "# Display the data types of the columns.\n",
    "companies.dtypes"
   ]
  },
  {
   "cell_type": "markdown",
   "id": "de949225",
   "metadata": {
    "id": "0dbc048f-cd6d-4e52-93a9-21ec30ce055b"
   },
   "source": [
    "### Modify the data types"
   ]
  },
  {
   "cell_type": "markdown",
   "id": "e7ba1e80",
   "metadata": {
    "id": "ad280560-d6db-4fcd-ba70-2c16389e12fd"
   },
   "source": [
    "Data type of the `Date Joined` column is an `object`&mdash;in this case, a string. Convert this column to `datetime` to make it more usable. "
   ]
  },
  {
   "cell_type": "code",
   "execution_count": 5,
   "id": "23b0256d",
   "metadata": {
    "executionInfo": {
     "elapsed": 35,
     "status": "ok",
     "timestamp": 1663034403456,
     "user": {
      "displayName": "Lavanya Vijayan",
      "userId": "01043085078394539645"
     },
     "user_tz": 420
    },
    "id": "1793ad8d-659a-4fc9-aa8a-570f063ca0d3"
   },
   "outputs": [],
   "source": [
    "# Apply necessary datatype conversions.\n",
    "companies['Date Joined'] = pd.to_datetime(companies['Date Joined'])"
   ]
  },
  {
   "cell_type": "markdown",
   "id": "ccb6d52b",
   "metadata": {
    "id": "1ea7364c-a5be-4c3a-ae8d-24a0ac497973"
   },
   "source": [
    "### Create a new column"
   ]
  },
  {
   "cell_type": "markdown",
   "id": "fea0cb6c",
   "metadata": {
    "id": "6ed05e76-0a66-4ea3-9796-39afb48eeb93"
   },
   "source": [
    "Add a column called `Years To Unicorn`, which is the number of years between when the company was founded and when it became a unicorn."
   ]
  },
  {
   "cell_type": "code",
   "execution_count": 6,
   "id": "bea8f476",
   "metadata": {
    "executionInfo": {
     "elapsed": 34,
     "status": "ok",
     "timestamp": 1663034403457,
     "user": {
      "displayName": "Lavanya Vijayan",
      "userId": "01043085078394539645"
     },
     "user_tz": 420
    },
    "id": "3d495d71-39af-4d3f-80fd-0d0a22b01532"
   },
   "outputs": [],
   "source": [
    "# Create the column Years To Unicorn.\n",
    "companies['Years To Unicorn'] = companies['Date Joined'].dt.year - companies['Year Founded']"
   ]
  },
  {
   "cell_type": "markdown",
   "id": "2a54ba3a",
   "metadata": {
    "id": "9fc9ddf1-ece0-40fb-9281-0808c193f5da",
    "tags": []
   },
   "source": [
    "### Input validation"
   ]
  },
  {
   "cell_type": "markdown",
   "id": "f18778ce",
   "metadata": {
    "id": "db0651e7-36ef-4c10-a3ba-97373167da64",
    "tags": []
   },
   "source": [
    "#### Correcting bad data\n",
    "\n",
    "Get descriptive statistics for the `Years To Unicorn` column."
   ]
  },
  {
   "cell_type": "code",
   "execution_count": 7,
   "id": "a4e2a284",
   "metadata": {},
   "outputs": [
    {
     "data": {
      "text/plain": [
       "count    1074.000000\n",
       "mean        7.013035\n",
       "std         5.331842\n",
       "min        -3.000000\n",
       "25%         4.000000\n",
       "50%         6.000000\n",
       "75%         9.000000\n",
       "max        98.000000\n",
       "Name: Years To Unicorn, dtype: float64"
      ]
     },
     "execution_count": 7,
     "metadata": {},
     "output_type": "execute_result"
    }
   ],
   "source": [
    "companies['Years To Unicorn'].describe()"
   ]
  },
  {
   "cell_type": "markdown",
   "id": "d4e7ec1f",
   "metadata": {},
   "source": [
    "Isolate all rows where the `Years To Unicorn` column contains a negative value."
   ]
  },
  {
   "cell_type": "code",
   "execution_count": 8,
   "id": "67538969",
   "metadata": {
    "scrolled": true
   },
   "outputs": [
    {
     "data": {
      "text/html": [
       "<div>\n",
       "<style scoped>\n",
       "    .dataframe tbody tr th:only-of-type {\n",
       "        vertical-align: middle;\n",
       "    }\n",
       "\n",
       "    .dataframe tbody tr th {\n",
       "        vertical-align: top;\n",
       "    }\n",
       "\n",
       "    .dataframe thead th {\n",
       "        text-align: right;\n",
       "    }\n",
       "</style>\n",
       "<table border=\"1\" class=\"dataframe\">\n",
       "  <thead>\n",
       "    <tr style=\"text-align: right;\">\n",
       "      <th></th>\n",
       "      <th>Company</th>\n",
       "      <th>Valuation</th>\n",
       "      <th>Date Joined</th>\n",
       "      <th>Industry</th>\n",
       "      <th>City</th>\n",
       "      <th>Country/Region</th>\n",
       "      <th>Continent</th>\n",
       "      <th>Year Founded</th>\n",
       "      <th>Funding</th>\n",
       "      <th>Select Investors</th>\n",
       "      <th>Years To Unicorn</th>\n",
       "    </tr>\n",
       "  </thead>\n",
       "  <tbody>\n",
       "    <tr>\n",
       "      <th>527</th>\n",
       "      <td>InVision</td>\n",
       "      <td>2</td>\n",
       "      <td>2017-11-01</td>\n",
       "      <td>Internet software &amp; services</td>\n",
       "      <td>New York</td>\n",
       "      <td>United States</td>\n",
       "      <td>North America</td>\n",
       "      <td>2020</td>\n",
       "      <td>$349M</td>\n",
       "      <td>FirstMark Capital, Tiger Global Management, IC...</td>\n",
       "      <td>-3</td>\n",
       "    </tr>\n",
       "  </tbody>\n",
       "</table>\n",
       "</div>"
      ],
      "text/plain": [
       "      Company  Valuation Date Joined                      Industry      City  \\\n",
       "527  InVision          2  2017-11-01  Internet software & services  New York   \n",
       "\n",
       "    Country/Region      Continent  Year Founded Funding  \\\n",
       "527  United States  North America          2020   $349M   \n",
       "\n",
       "                                      Select Investors  Years To Unicorn  \n",
       "527  FirstMark Capital, Tiger Global Management, IC...                -3  "
      ]
     },
     "execution_count": 8,
     "metadata": {},
     "output_type": "execute_result"
    }
   ],
   "source": [
    "# Isolate any rows where `Years To Unicorn` is negative\n",
    "companies[companies['Years To Unicorn'] < 0]"
   ]
  },
  {
   "cell_type": "markdown",
   "id": "e94791f9",
   "metadata": {},
   "source": [
    "There is a single row that has a negative value in the `Years To Unicorn` column. The company represented in this row is InVision."
   ]
  },
  {
   "cell_type": "markdown",
   "id": "95995720",
   "metadata": {},
   "source": [
    "An internet search reveals that InVision was founded in 2011. Replace the value at `Year Founded` with `2011` for InVision's row. "
   ]
  },
  {
   "cell_type": "code",
   "execution_count": 9,
   "id": "6ade2a98",
   "metadata": {},
   "outputs": [
    {
     "data": {
      "text/html": [
       "<div>\n",
       "<style scoped>\n",
       "    .dataframe tbody tr th:only-of-type {\n",
       "        vertical-align: middle;\n",
       "    }\n",
       "\n",
       "    .dataframe tbody tr th {\n",
       "        vertical-align: top;\n",
       "    }\n",
       "\n",
       "    .dataframe thead th {\n",
       "        text-align: right;\n",
       "    }\n",
       "</style>\n",
       "<table border=\"1\" class=\"dataframe\">\n",
       "  <thead>\n",
       "    <tr style=\"text-align: right;\">\n",
       "      <th></th>\n",
       "      <th>Company</th>\n",
       "      <th>Valuation</th>\n",
       "      <th>Date Joined</th>\n",
       "      <th>Industry</th>\n",
       "      <th>City</th>\n",
       "      <th>Country/Region</th>\n",
       "      <th>Continent</th>\n",
       "      <th>Year Founded</th>\n",
       "      <th>Funding</th>\n",
       "      <th>Select Investors</th>\n",
       "      <th>Years To Unicorn</th>\n",
       "    </tr>\n",
       "  </thead>\n",
       "  <tbody>\n",
       "    <tr>\n",
       "      <th>527</th>\n",
       "      <td>InVision</td>\n",
       "      <td>2</td>\n",
       "      <td>2017-11-01</td>\n",
       "      <td>Internet software &amp; services</td>\n",
       "      <td>New York</td>\n",
       "      <td>United States</td>\n",
       "      <td>North America</td>\n",
       "      <td>2011</td>\n",
       "      <td>$349M</td>\n",
       "      <td>FirstMark Capital, Tiger Global Management, IC...</td>\n",
       "      <td>-3</td>\n",
       "    </tr>\n",
       "  </tbody>\n",
       "</table>\n",
       "</div>"
      ],
      "text/plain": [
       "      Company  Valuation Date Joined                      Industry      City  \\\n",
       "527  InVision          2  2017-11-01  Internet software & services  New York   \n",
       "\n",
       "    Country/Region      Continent  Year Founded Funding  \\\n",
       "527  United States  North America          2011   $349M   \n",
       "\n",
       "                                      Select Investors  Years To Unicorn  \n",
       "527  FirstMark Capital, Tiger Global Management, IC...                -3  "
      ]
     },
     "execution_count": 9,
     "metadata": {},
     "output_type": "execute_result"
    }
   ],
   "source": [
    "# Replace InVision's `Year Founded` value with 2011\n",
    "companies.loc[companies['Company']=='InVision', 'Year Founded'] = 2011\n",
    "\n",
    "# Verify the change was made properly\n",
    "companies[companies['Company']=='InVision']"
   ]
  },
  {
   "cell_type": "markdown",
   "id": "8914afcd",
   "metadata": {},
   "source": [
    "Now, recalculate all the values in the `Years To Unicorn` column to remove the negative value for InVision. Verify that there are no more negative values afterwards."
   ]
  },
  {
   "cell_type": "code",
   "execution_count": 10,
   "id": "983dfc5a",
   "metadata": {},
   "outputs": [
    {
     "data": {
      "text/plain": [
       "count    1074.000000\n",
       "mean        7.021415\n",
       "std         5.323155\n",
       "min         0.000000\n",
       "25%         4.000000\n",
       "50%         6.000000\n",
       "75%         9.000000\n",
       "max        98.000000\n",
       "Name: Years To Unicorn, dtype: float64"
      ]
     },
     "execution_count": 10,
     "metadata": {},
     "output_type": "execute_result"
    }
   ],
   "source": [
    "# Recalculate all values in the `Years To Unicorn` column\n",
    "companies['Years To Unicorn'] = companies['Date Joined'].dt.year - companies['Year Founded']\n",
    "\n",
    "# Verify that there are no more negative values in the column\n",
    "companies['Years To Unicorn'].describe()"
   ]
  },
  {
   "cell_type": "markdown",
   "id": "4ba6a0f1",
   "metadata": {
    "id": "8b325a5a-67d2-4f92-8159-a9f4c21b1779"
   },
   "source": [
    "#### Issues with `Industry` labels"
   ]
  },
  {
   "cell_type": "code",
   "execution_count": 11,
   "id": "ba6aa339",
   "metadata": {
    "executionInfo": {
     "elapsed": 31,
     "status": "ok",
     "timestamp": 1663034403459,
     "user": {
      "displayName": "Lavanya Vijayan",
      "userId": "01043085078394539645"
     },
     "user_tz": 420
    },
    "id": "b02348fb-dde8-43e7-9368-4d771bf6e5a7"
   },
   "outputs": [],
   "source": [
    "# List provided by the company of the expected industry labels in the data\n",
    "industry_list = ['Artificial intelligence', 'Other','E-commerce & direct-to-consumer', 'Fintech',\\\n",
    "       'Internet software & services','Supply chain, logistics, & delivery', 'Consumer & retail',\\\n",
    "       'Data management & analytics', 'Edtech', 'Health', 'Hardware','Auto & transportation', \\\n",
    "        'Travel', 'Cybersecurity','Mobile & telecommunications']"
   ]
  },
  {
   "cell_type": "markdown",
   "id": "e79b3f06",
   "metadata": {},
   "source": [
    "First, check if there are values in the `Industry` column that are not in `industry_list`. If so, what are they?"
   ]
  },
  {
   "cell_type": "code",
   "execution_count": 12,
   "id": "9326719a",
   "metadata": {},
   "outputs": [
    {
     "data": {
      "text/plain": [
       "{'Artificial Intelligence', 'Data management and analytics', 'FinTech'}"
      ]
     },
     "execution_count": 12,
     "metadata": {},
     "output_type": "execute_result"
    }
   ],
   "source": [
    "# Check which values are in `Industry` but not in `industry_list`\n",
    "set(companies['Industry']) - set(industry_list)"
   ]
  },
  {
   "cell_type": "code",
   "execution_count": 13,
   "id": "c32aba54",
   "metadata": {},
   "outputs": [
    {
     "data": {
      "text/plain": [
       "set()"
      ]
     },
     "execution_count": 13,
     "metadata": {},
     "output_type": "execute_result"
    }
   ],
   "source": [
    "# 1. Create `replacement_dict`\n",
    "replacement_dict = {'Artificial Intelligence': 'Artificial intelligence',\n",
    "                   'Data management and analytics': 'Data management & analytics',\n",
    "                   'FinTech': 'Fintech'\n",
    "                   }\n",
    "\n",
    "# 2. Replace the incorrect values in the `Industry` column\n",
    "companies['Industry'] = companies['Industry'].replace(replacement_dict)\n",
    "\n",
    "# 3. Verify that there are no longer any elements in `Industry` that are not in `industry_list`\n",
    "set(companies['Industry']) - set(industry_list)"
   ]
  },
  {
   "cell_type": "markdown",
   "id": "2fc0a247",
   "metadata": {
    "id": "121e1b7c-845f-4cee-a973-aebd41411dd2"
   },
   "source": [
    "#### Handling duplicate rows\n",
    "Check which, if any, companies are duplicated. Filter the data to return all occurrences of those duplicated companies."
   ]
  },
  {
   "cell_type": "code",
   "execution_count": 14,
   "id": "ed42314c",
   "metadata": {
    "colab": {
     "base_uri": "https://localhost:8080/"
    },
    "executionInfo": {
     "elapsed": 29,
     "status": "ok",
     "timestamp": 1663034403462,
     "user": {
      "displayName": "Lavanya Vijayan",
      "userId": "01043085078394539645"
     },
     "user_tz": 420
    },
    "id": "0850371d-4cf8-4f06-9e41-b3baa842d86c",
    "outputId": "01cde742-850d-47ba-f0de-925ff1db64f7"
   },
   "outputs": [
    {
     "data": {
      "text/html": [
       "<div>\n",
       "<style scoped>\n",
       "    .dataframe tbody tr th:only-of-type {\n",
       "        vertical-align: middle;\n",
       "    }\n",
       "\n",
       "    .dataframe tbody tr th {\n",
       "        vertical-align: top;\n",
       "    }\n",
       "\n",
       "    .dataframe thead th {\n",
       "        text-align: right;\n",
       "    }\n",
       "</style>\n",
       "<table border=\"1\" class=\"dataframe\">\n",
       "  <thead>\n",
       "    <tr style=\"text-align: right;\">\n",
       "      <th></th>\n",
       "      <th>Company</th>\n",
       "      <th>Valuation</th>\n",
       "      <th>Date Joined</th>\n",
       "      <th>Industry</th>\n",
       "      <th>City</th>\n",
       "      <th>Country/Region</th>\n",
       "      <th>Continent</th>\n",
       "      <th>Year Founded</th>\n",
       "      <th>Funding</th>\n",
       "      <th>Select Investors</th>\n",
       "      <th>Years To Unicorn</th>\n",
       "    </tr>\n",
       "  </thead>\n",
       "  <tbody>\n",
       "    <tr>\n",
       "      <th>385</th>\n",
       "      <td>BrewDog</td>\n",
       "      <td>2</td>\n",
       "      <td>2017-04-10</td>\n",
       "      <td>Consumer &amp; retail</td>\n",
       "      <td>Aberdeen</td>\n",
       "      <td>United Kingdom</td>\n",
       "      <td>Europe</td>\n",
       "      <td>2007</td>\n",
       "      <td>$233M</td>\n",
       "      <td>TSG Consumer Partners, Crowdcube</td>\n",
       "      <td>10</td>\n",
       "    </tr>\n",
       "    <tr>\n",
       "      <th>386</th>\n",
       "      <td>BrewDog</td>\n",
       "      <td>2</td>\n",
       "      <td>2017-04-10</td>\n",
       "      <td>Consumer &amp; retail</td>\n",
       "      <td>Aberdeen</td>\n",
       "      <td>UnitedKingdom</td>\n",
       "      <td>Europe</td>\n",
       "      <td>2007</td>\n",
       "      <td>$233M</td>\n",
       "      <td>TSG Consumer Partners</td>\n",
       "      <td>10</td>\n",
       "    </tr>\n",
       "    <tr>\n",
       "      <th>510</th>\n",
       "      <td>ZocDoc</td>\n",
       "      <td>2</td>\n",
       "      <td>2015-08-20</td>\n",
       "      <td>Health</td>\n",
       "      <td>New York</td>\n",
       "      <td>United States</td>\n",
       "      <td>North America</td>\n",
       "      <td>2007</td>\n",
       "      <td>$374M</td>\n",
       "      <td>Founders Fund, Khosla Ventures, Goldman Sachs</td>\n",
       "      <td>8</td>\n",
       "    </tr>\n",
       "    <tr>\n",
       "      <th>511</th>\n",
       "      <td>ZocDoc</td>\n",
       "      <td>2</td>\n",
       "      <td>2015-08-20</td>\n",
       "      <td>Health</td>\n",
       "      <td>NaN</td>\n",
       "      <td>United States</td>\n",
       "      <td>North America</td>\n",
       "      <td>2007</td>\n",
       "      <td>$374M</td>\n",
       "      <td>Founders Fund</td>\n",
       "      <td>8</td>\n",
       "    </tr>\n",
       "    <tr>\n",
       "      <th>1031</th>\n",
       "      <td>SoundHound</td>\n",
       "      <td>1</td>\n",
       "      <td>2018-05-03</td>\n",
       "      <td>Artificial intelligence</td>\n",
       "      <td>Santa Clara</td>\n",
       "      <td>United States</td>\n",
       "      <td>North America</td>\n",
       "      <td>2005</td>\n",
       "      <td>$215M</td>\n",
       "      <td>Tencent Holdings, Walden Venture Capital, Glob...</td>\n",
       "      <td>13</td>\n",
       "    </tr>\n",
       "    <tr>\n",
       "      <th>1032</th>\n",
       "      <td>SoundHound</td>\n",
       "      <td>1</td>\n",
       "      <td>2018-05-03</td>\n",
       "      <td>Other</td>\n",
       "      <td>Santa Clara</td>\n",
       "      <td>United States</td>\n",
       "      <td>North America</td>\n",
       "      <td>2005</td>\n",
       "      <td>$215M</td>\n",
       "      <td>Tencent Holdings</td>\n",
       "      <td>13</td>\n",
       "    </tr>\n",
       "  </tbody>\n",
       "</table>\n",
       "</div>"
      ],
      "text/plain": [
       "         Company  Valuation Date Joined                 Industry         City  \\\n",
       "385      BrewDog          2  2017-04-10        Consumer & retail     Aberdeen   \n",
       "386      BrewDog          2  2017-04-10        Consumer & retail     Aberdeen   \n",
       "510       ZocDoc          2  2015-08-20                   Health     New York   \n",
       "511       ZocDoc          2  2015-08-20                   Health          NaN   \n",
       "1031  SoundHound          1  2018-05-03  Artificial intelligence  Santa Clara   \n",
       "1032  SoundHound          1  2018-05-03                    Other  Santa Clara   \n",
       "\n",
       "      Country/Region      Continent  Year Founded Funding  \\\n",
       "385   United Kingdom         Europe          2007   $233M   \n",
       "386    UnitedKingdom         Europe          2007   $233M   \n",
       "510    United States  North America          2007   $374M   \n",
       "511    United States  North America          2007   $374M   \n",
       "1031   United States  North America          2005   $215M   \n",
       "1032   United States  North America          2005   $215M   \n",
       "\n",
       "                                       Select Investors  Years To Unicorn  \n",
       "385                    TSG Consumer Partners, Crowdcube                10  \n",
       "386                               TSG Consumer Partners                10  \n",
       "510       Founders Fund, Khosla Ventures, Goldman Sachs                 8  \n",
       "511                                       Founders Fund                 8  \n",
       "1031  Tencent Holdings, Walden Venture Capital, Glob...                13  \n",
       "1032                                   Tencent Holdings                13  "
      ]
     },
     "execution_count": 14,
     "metadata": {},
     "output_type": "execute_result"
    }
   ],
   "source": [
    "# Isolate rows of all companies that have duplicates\n",
    "companies[companies.duplicated(subset=['Company'], keep=False)]"
   ]
  },
  {
   "cell_type": "markdown",
   "id": "a139530e",
   "metadata": {},
   "source": [
    "Keep the first occurrence of each duplicate company and drop the subsequent rows that are copies."
   ]
  },
  {
   "cell_type": "code",
   "execution_count": 15,
   "id": "fe283084",
   "metadata": {},
   "outputs": [],
   "source": [
    "# Drop rows of duplicate companies after their first occurrence\n",
    "companies = companies.drop_duplicates(subset=['Company'], keep='first')"
   ]
  },
  {
   "cell_type": "markdown",
   "id": "8dbbfff0",
   "metadata": {
    "id": "adf88963-afa4-4d4d-a0f6-453eb3542bcb",
    "tags": []
   },
   "source": [
    "Input validation is an essential practice for ensuring data is complete, error-free, and high quality. A low-quality dataset may lend itself to an analysis that is incorrect or misleading."
   ]
  },
  {
   "cell_type": "markdown",
   "id": "dd284368",
   "metadata": {
    "id": "2414c767-3950-4477-8822-59dfb82d8b1b"
   },
   "source": [
    "The input validation steps included:\n",
    " \n",
    " * Fixing incorrect values\n",
    " * Correcting inconsistencies in the data\n",
    " * Removing duplicate data"
   ]
  },
  {
   "cell_type": "markdown",
   "id": "ba7fb60a",
   "metadata": {},
   "source": [
    "### Convert numerical data to categorical data"
   ]
  },
  {
   "cell_type": "markdown",
   "id": "4f9012b0",
   "metadata": {},
   "source": [
    "#### Create a `High Valuation` column\n",
    "\n",
    "The data in the `Valuation` column represents how much money (in billions, USD) each company is valued at. Use the `Valuation` column to create a new column called `High Valuation`. For each company, the value in this column should be `low` if the company is in the bottom 50% of company valuations and `high` if the company is in the top 50%."
   ]
  },
  {
   "cell_type": "code",
   "execution_count": 16,
   "id": "55e3e612",
   "metadata": {
    "executionInfo": {
     "elapsed": 26,
     "status": "ok",
     "timestamp": 1663034403463,
     "user": {
      "displayName": "Lavanya Vijayan",
      "userId": "01043085078394539645"
     },
     "user_tz": 420
    },
    "id": "646aaace-82a5-4b73-822a-27475822de4a"
   },
   "outputs": [],
   "source": [
    "# Create new `High Valuation` column\n",
    "# Use qcut to divide Valuation into 'high' and 'low' Valuation groups\n",
    "companies['High Valuation'] = pd.qcut(companies['Valuation'], 2, labels = ['low', 'high'])"
   ]
  },
  {
   "cell_type": "markdown",
   "id": "d2b7e777",
   "metadata": {
    "id": "w_HtFyHrXVAc"
   },
   "source": [
    "### Convert categorical data to numerical data"
   ]
  },
  {
   "cell_type": "markdown",
   "id": "af39586f",
   "metadata": {
    "id": "6f5107f1-3694-4296-b857-b1e44ce2b09b"
   },
   "source": [
    "### Convert `Continent` to numeric\n",
    "\n",
    "Suppose that an investment group has specified that they want to give more weight to continents with fewer unicorn companies because they believe this could indicate unrealized market potential. "
   ]
  },
  {
   "cell_type": "markdown",
   "id": "153ea337",
   "metadata": {},
   "source": [
    "Rank the continents in descending order from the greatest number of unicorn companies to the least."
   ]
  },
  {
   "cell_type": "code",
   "execution_count": 17,
   "id": "1fdba61a",
   "metadata": {
    "scrolled": true
   },
   "outputs": [
    {
     "data": {
      "text/plain": [
       "North America    586\n",
       "Asia             310\n",
       "Europe           143\n",
       "South America     21\n",
       "Oceania            8\n",
       "Africa             3\n",
       "Name: Continent, dtype: int64"
      ]
     },
     "execution_count": 17,
     "metadata": {},
     "output_type": "execute_result"
    }
   ],
   "source": [
    "# Rank the continents by number of unicorn companies\n",
    "companies['Continent'].value_counts()"
   ]
  },
  {
   "cell_type": "markdown",
   "id": "df6d6341",
   "metadata": {},
   "source": [
    "Create a new column called `Continent Number` that represents the `Continent` column converted to numeric in the order of their number of unicorn companies, where North America is encoded as `1`, through Africa, encoded as `6`."
   ]
  },
  {
   "cell_type": "code",
   "execution_count": 18,
   "id": "648e3d63",
   "metadata": {
    "executionInfo": {
     "elapsed": 26,
     "status": "ok",
     "timestamp": 1663034403463,
     "user": {
      "displayName": "Lavanya Vijayan",
      "userId": "01043085078394539645"
     },
     "user_tz": 420
    },
    "id": "bbd72ed4-5cac-41f7-a816-3a4d28e34eb4"
   },
   "outputs": [
    {
     "data": {
      "text/html": [
       "<div>\n",
       "<style scoped>\n",
       "    .dataframe tbody tr th:only-of-type {\n",
       "        vertical-align: middle;\n",
       "    }\n",
       "\n",
       "    .dataframe tbody tr th {\n",
       "        vertical-align: top;\n",
       "    }\n",
       "\n",
       "    .dataframe thead th {\n",
       "        text-align: right;\n",
       "    }\n",
       "</style>\n",
       "<table border=\"1\" class=\"dataframe\">\n",
       "  <thead>\n",
       "    <tr style=\"text-align: right;\">\n",
       "      <th></th>\n",
       "      <th>Company</th>\n",
       "      <th>Valuation</th>\n",
       "      <th>Date Joined</th>\n",
       "      <th>Industry</th>\n",
       "      <th>City</th>\n",
       "      <th>Country/Region</th>\n",
       "      <th>Continent</th>\n",
       "      <th>Year Founded</th>\n",
       "      <th>Funding</th>\n",
       "      <th>Select Investors</th>\n",
       "      <th>Years To Unicorn</th>\n",
       "      <th>High Valuation</th>\n",
       "      <th>Continent Number</th>\n",
       "    </tr>\n",
       "  </thead>\n",
       "  <tbody>\n",
       "    <tr>\n",
       "      <th>0</th>\n",
       "      <td>Bytedance</td>\n",
       "      <td>180</td>\n",
       "      <td>2017-04-07</td>\n",
       "      <td>Artificial intelligence</td>\n",
       "      <td>Beijing</td>\n",
       "      <td>China</td>\n",
       "      <td>Asia</td>\n",
       "      <td>2012</td>\n",
       "      <td>$8B</td>\n",
       "      <td>Sequoia Capital China, SIG Asia Investments, S...</td>\n",
       "      <td>5</td>\n",
       "      <td>high</td>\n",
       "      <td>2</td>\n",
       "    </tr>\n",
       "    <tr>\n",
       "      <th>1</th>\n",
       "      <td>SpaceX</td>\n",
       "      <td>100</td>\n",
       "      <td>2012-12-01</td>\n",
       "      <td>Other</td>\n",
       "      <td>Hawthorne</td>\n",
       "      <td>United States</td>\n",
       "      <td>North America</td>\n",
       "      <td>2002</td>\n",
       "      <td>$7B</td>\n",
       "      <td>Founders Fund, Draper Fisher Jurvetson, Rothen...</td>\n",
       "      <td>10</td>\n",
       "      <td>high</td>\n",
       "      <td>1</td>\n",
       "    </tr>\n",
       "    <tr>\n",
       "      <th>2</th>\n",
       "      <td>SHEIN</td>\n",
       "      <td>100</td>\n",
       "      <td>2018-07-03</td>\n",
       "      <td>E-commerce &amp; direct-to-consumer</td>\n",
       "      <td>Shenzhen</td>\n",
       "      <td>China</td>\n",
       "      <td>Asia</td>\n",
       "      <td>2008</td>\n",
       "      <td>$2B</td>\n",
       "      <td>Tiger Global Management, Sequoia Capital China...</td>\n",
       "      <td>10</td>\n",
       "      <td>high</td>\n",
       "      <td>2</td>\n",
       "    </tr>\n",
       "    <tr>\n",
       "      <th>3</th>\n",
       "      <td>Stripe</td>\n",
       "      <td>95</td>\n",
       "      <td>2014-01-23</td>\n",
       "      <td>Fintech</td>\n",
       "      <td>San Francisco</td>\n",
       "      <td>United States</td>\n",
       "      <td>North America</td>\n",
       "      <td>2010</td>\n",
       "      <td>$2B</td>\n",
       "      <td>Khosla Ventures, LowercaseCapital, capitalG</td>\n",
       "      <td>4</td>\n",
       "      <td>high</td>\n",
       "      <td>1</td>\n",
       "    </tr>\n",
       "    <tr>\n",
       "      <th>4</th>\n",
       "      <td>Klarna</td>\n",
       "      <td>46</td>\n",
       "      <td>2011-12-12</td>\n",
       "      <td>Fintech</td>\n",
       "      <td>Stockholm</td>\n",
       "      <td>Sweden</td>\n",
       "      <td>Europe</td>\n",
       "      <td>2005</td>\n",
       "      <td>$4B</td>\n",
       "      <td>Institutional Venture Partners, Sequoia Capita...</td>\n",
       "      <td>6</td>\n",
       "      <td>high</td>\n",
       "      <td>3</td>\n",
       "    </tr>\n",
       "  </tbody>\n",
       "</table>\n",
       "</div>"
      ],
      "text/plain": [
       "     Company  Valuation Date Joined                         Industry  \\\n",
       "0  Bytedance        180  2017-04-07          Artificial intelligence   \n",
       "1     SpaceX        100  2012-12-01                            Other   \n",
       "2      SHEIN        100  2018-07-03  E-commerce & direct-to-consumer   \n",
       "3     Stripe         95  2014-01-23                          Fintech   \n",
       "4     Klarna         46  2011-12-12                          Fintech   \n",
       "\n",
       "            City Country/Region      Continent  Year Founded Funding  \\\n",
       "0        Beijing          China           Asia          2012     $8B   \n",
       "1      Hawthorne  United States  North America          2002     $7B   \n",
       "2       Shenzhen          China           Asia          2008     $2B   \n",
       "3  San Francisco  United States  North America          2010     $2B   \n",
       "4      Stockholm         Sweden         Europe          2005     $4B   \n",
       "\n",
       "                                    Select Investors  Years To Unicorn  \\\n",
       "0  Sequoia Capital China, SIG Asia Investments, S...                 5   \n",
       "1  Founders Fund, Draper Fisher Jurvetson, Rothen...                10   \n",
       "2  Tiger Global Management, Sequoia Capital China...                10   \n",
       "3        Khosla Ventures, LowercaseCapital, capitalG                 4   \n",
       "4  Institutional Venture Partners, Sequoia Capita...                 6   \n",
       "\n",
       "  High Valuation  Continent Number  \n",
       "0           high                 2  \n",
       "1           high                 1  \n",
       "2           high                 2  \n",
       "3           high                 1  \n",
       "4           high                 3  "
      ]
     },
     "execution_count": 18,
     "metadata": {},
     "output_type": "execute_result"
    }
   ],
   "source": [
    "# Create numeric `Continent Number` column\n",
    "continent_dict = {'North America': 1,\n",
    "                  'Asia': 2,\n",
    "                  'Europe': 3,\n",
    "                  'South America': 4,\n",
    "                  'Oceania': 5,\n",
    "                  'Africa': 6\n",
    "                 }\n",
    "companies['Continent Number'] = companies['Continent'].replace(continent_dict)\n",
    "companies.head()"
   ]
  },
  {
   "cell_type": "markdown",
   "id": "a5f7c39f",
   "metadata": {
    "id": "2c95b77d-7cda-46ba-975f-8632aaa6158d",
    "tags": []
   },
   "source": [
    "### Convert `Country/Region` to numeric\n",
    "\n",
    "Each company's `Country/Region` is given equal importance. For analytical purposes, convert the values in this column to numeric without creating a large number of dummy columns. Use label encoding of this nominal categorical variable to create a new column called `Country/Region Numeric`, wherein each unique `Country/Region` is assigned its own number. "
   ]
  },
  {
   "cell_type": "code",
   "execution_count": 19,
   "id": "0ceb103d",
   "metadata": {
    "executionInfo": {
     "elapsed": 26,
     "status": "ok",
     "timestamp": 1663034403465,
     "user": {
      "displayName": "Lavanya Vijayan",
      "userId": "01043085078394539645"
     },
     "user_tz": 420
    },
    "id": "c3bd716a-7845-4c3c-988c-3b227c10e036"
   },
   "outputs": [],
   "source": [
    "# Create `Country/Region Numeric` column\n",
    "# Create numeric categories for Country/Region\n",
    "companies['Country/Region Numeric'] = companies['Country/Region'].astype('category').cat.codes"
   ]
  },
  {
   "cell_type": "markdown",
   "id": "221999ba",
   "metadata": {
    "id": "2eeff065-469f-4a43-bf2a-87920c4d7bc0"
   },
   "source": [
    "### Convert `Industry` to numeric\n",
    "\n",
    "Finally, create dummy variables for the values in the `Industry` column. "
   ]
  },
  {
   "cell_type": "code",
   "execution_count": 20,
   "id": "36fbeb8b",
   "metadata": {
    "executionInfo": {
     "elapsed": 27,
     "status": "ok",
     "timestamp": 1663034403466,
     "user": {
      "displayName": "Lavanya Vijayan",
      "userId": "01043085078394539645"
     },
     "user_tz": 420
    },
    "id": "4bca4703-9f76-4b59-bc5e-df0097e44b4a"
   },
   "outputs": [],
   "source": [
    "# Convert `Industry` to numeric data\n",
    "# Create dummy variables with Industry values\n",
    "industry_encoded = pd.get_dummies(companies['Industry'])\n",
    "\n",
    "# Combine `companies` DataFrame with new dummy Industry columns\n",
    "companies = pd.concat([companies, industry_encoded], axis=1)"
   ]
  },
  {
   "cell_type": "markdown",
   "id": "dc97e863",
   "metadata": {},
   "source": [
    "Display the first few rows of `companies`"
   ]
  },
  {
   "cell_type": "code",
   "execution_count": 21,
   "id": "d42b9877",
   "metadata": {},
   "outputs": [
    {
     "data": {
      "text/html": [
       "<div>\n",
       "<style scoped>\n",
       "    .dataframe tbody tr th:only-of-type {\n",
       "        vertical-align: middle;\n",
       "    }\n",
       "\n",
       "    .dataframe tbody tr th {\n",
       "        vertical-align: top;\n",
       "    }\n",
       "\n",
       "    .dataframe thead th {\n",
       "        text-align: right;\n",
       "    }\n",
       "</style>\n",
       "<table border=\"1\" class=\"dataframe\">\n",
       "  <thead>\n",
       "    <tr style=\"text-align: right;\">\n",
       "      <th></th>\n",
       "      <th>Company</th>\n",
       "      <th>Valuation</th>\n",
       "      <th>Date Joined</th>\n",
       "      <th>Industry</th>\n",
       "      <th>City</th>\n",
       "      <th>Country/Region</th>\n",
       "      <th>Continent</th>\n",
       "      <th>Year Founded</th>\n",
       "      <th>Funding</th>\n",
       "      <th>Select Investors</th>\n",
       "      <th>Years To Unicorn</th>\n",
       "      <th>High Valuation</th>\n",
       "      <th>Continent Number</th>\n",
       "      <th>Country/Region Numeric</th>\n",
       "      <th>Artificial intelligence</th>\n",
       "      <th>Auto &amp; transportation</th>\n",
       "      <th>Consumer &amp; retail</th>\n",
       "      <th>Cybersecurity</th>\n",
       "      <th>Data management &amp; analytics</th>\n",
       "      <th>E-commerce &amp; direct-to-consumer</th>\n",
       "      <th>Edtech</th>\n",
       "      <th>Fintech</th>\n",
       "      <th>Hardware</th>\n",
       "      <th>Health</th>\n",
       "      <th>Internet software &amp; services</th>\n",
       "      <th>Mobile &amp; telecommunications</th>\n",
       "      <th>Other</th>\n",
       "      <th>Supply chain, logistics, &amp; delivery</th>\n",
       "      <th>Travel</th>\n",
       "    </tr>\n",
       "  </thead>\n",
       "  <tbody>\n",
       "    <tr>\n",
       "      <th>0</th>\n",
       "      <td>Bytedance</td>\n",
       "      <td>180</td>\n",
       "      <td>2017-04-07</td>\n",
       "      <td>Artificial intelligence</td>\n",
       "      <td>Beijing</td>\n",
       "      <td>China</td>\n",
       "      <td>Asia</td>\n",
       "      <td>2012</td>\n",
       "      <td>$8B</td>\n",
       "      <td>Sequoia Capital China, SIG Asia Investments, S...</td>\n",
       "      <td>5</td>\n",
       "      <td>high</td>\n",
       "      <td>2</td>\n",
       "      <td>9</td>\n",
       "      <td>1</td>\n",
       "      <td>0</td>\n",
       "      <td>0</td>\n",
       "      <td>0</td>\n",
       "      <td>0</td>\n",
       "      <td>0</td>\n",
       "      <td>0</td>\n",
       "      <td>0</td>\n",
       "      <td>0</td>\n",
       "      <td>0</td>\n",
       "      <td>0</td>\n",
       "      <td>0</td>\n",
       "      <td>0</td>\n",
       "      <td>0</td>\n",
       "      <td>0</td>\n",
       "    </tr>\n",
       "    <tr>\n",
       "      <th>1</th>\n",
       "      <td>SpaceX</td>\n",
       "      <td>100</td>\n",
       "      <td>2012-12-01</td>\n",
       "      <td>Other</td>\n",
       "      <td>Hawthorne</td>\n",
       "      <td>United States</td>\n",
       "      <td>North America</td>\n",
       "      <td>2002</td>\n",
       "      <td>$7B</td>\n",
       "      <td>Founders Fund, Draper Fisher Jurvetson, Rothen...</td>\n",
       "      <td>10</td>\n",
       "      <td>high</td>\n",
       "      <td>1</td>\n",
       "      <td>44</td>\n",
       "      <td>0</td>\n",
       "      <td>0</td>\n",
       "      <td>0</td>\n",
       "      <td>0</td>\n",
       "      <td>0</td>\n",
       "      <td>0</td>\n",
       "      <td>0</td>\n",
       "      <td>0</td>\n",
       "      <td>0</td>\n",
       "      <td>0</td>\n",
       "      <td>0</td>\n",
       "      <td>0</td>\n",
       "      <td>1</td>\n",
       "      <td>0</td>\n",
       "      <td>0</td>\n",
       "    </tr>\n",
       "    <tr>\n",
       "      <th>2</th>\n",
       "      <td>SHEIN</td>\n",
       "      <td>100</td>\n",
       "      <td>2018-07-03</td>\n",
       "      <td>E-commerce &amp; direct-to-consumer</td>\n",
       "      <td>Shenzhen</td>\n",
       "      <td>China</td>\n",
       "      <td>Asia</td>\n",
       "      <td>2008</td>\n",
       "      <td>$2B</td>\n",
       "      <td>Tiger Global Management, Sequoia Capital China...</td>\n",
       "      <td>10</td>\n",
       "      <td>high</td>\n",
       "      <td>2</td>\n",
       "      <td>9</td>\n",
       "      <td>0</td>\n",
       "      <td>0</td>\n",
       "      <td>0</td>\n",
       "      <td>0</td>\n",
       "      <td>0</td>\n",
       "      <td>1</td>\n",
       "      <td>0</td>\n",
       "      <td>0</td>\n",
       "      <td>0</td>\n",
       "      <td>0</td>\n",
       "      <td>0</td>\n",
       "      <td>0</td>\n",
       "      <td>0</td>\n",
       "      <td>0</td>\n",
       "      <td>0</td>\n",
       "    </tr>\n",
       "    <tr>\n",
       "      <th>3</th>\n",
       "      <td>Stripe</td>\n",
       "      <td>95</td>\n",
       "      <td>2014-01-23</td>\n",
       "      <td>Fintech</td>\n",
       "      <td>San Francisco</td>\n",
       "      <td>United States</td>\n",
       "      <td>North America</td>\n",
       "      <td>2010</td>\n",
       "      <td>$2B</td>\n",
       "      <td>Khosla Ventures, LowercaseCapital, capitalG</td>\n",
       "      <td>4</td>\n",
       "      <td>high</td>\n",
       "      <td>1</td>\n",
       "      <td>44</td>\n",
       "      <td>0</td>\n",
       "      <td>0</td>\n",
       "      <td>0</td>\n",
       "      <td>0</td>\n",
       "      <td>0</td>\n",
       "      <td>0</td>\n",
       "      <td>0</td>\n",
       "      <td>1</td>\n",
       "      <td>0</td>\n",
       "      <td>0</td>\n",
       "      <td>0</td>\n",
       "      <td>0</td>\n",
       "      <td>0</td>\n",
       "      <td>0</td>\n",
       "      <td>0</td>\n",
       "    </tr>\n",
       "    <tr>\n",
       "      <th>4</th>\n",
       "      <td>Klarna</td>\n",
       "      <td>46</td>\n",
       "      <td>2011-12-12</td>\n",
       "      <td>Fintech</td>\n",
       "      <td>Stockholm</td>\n",
       "      <td>Sweden</td>\n",
       "      <td>Europe</td>\n",
       "      <td>2005</td>\n",
       "      <td>$4B</td>\n",
       "      <td>Institutional Venture Partners, Sequoia Capita...</td>\n",
       "      <td>6</td>\n",
       "      <td>high</td>\n",
       "      <td>3</td>\n",
       "      <td>38</td>\n",
       "      <td>0</td>\n",
       "      <td>0</td>\n",
       "      <td>0</td>\n",
       "      <td>0</td>\n",
       "      <td>0</td>\n",
       "      <td>0</td>\n",
       "      <td>0</td>\n",
       "      <td>1</td>\n",
       "      <td>0</td>\n",
       "      <td>0</td>\n",
       "      <td>0</td>\n",
       "      <td>0</td>\n",
       "      <td>0</td>\n",
       "      <td>0</td>\n",
       "      <td>0</td>\n",
       "    </tr>\n",
       "  </tbody>\n",
       "</table>\n",
       "</div>"
      ],
      "text/plain": [
       "     Company  Valuation Date Joined                         Industry  \\\n",
       "0  Bytedance        180  2017-04-07          Artificial intelligence   \n",
       "1     SpaceX        100  2012-12-01                            Other   \n",
       "2      SHEIN        100  2018-07-03  E-commerce & direct-to-consumer   \n",
       "3     Stripe         95  2014-01-23                          Fintech   \n",
       "4     Klarna         46  2011-12-12                          Fintech   \n",
       "\n",
       "            City Country/Region      Continent  Year Founded Funding  \\\n",
       "0        Beijing          China           Asia          2012     $8B   \n",
       "1      Hawthorne  United States  North America          2002     $7B   \n",
       "2       Shenzhen          China           Asia          2008     $2B   \n",
       "3  San Francisco  United States  North America          2010     $2B   \n",
       "4      Stockholm         Sweden         Europe          2005     $4B   \n",
       "\n",
       "                                    Select Investors  Years To Unicorn  \\\n",
       "0  Sequoia Capital China, SIG Asia Investments, S...                 5   \n",
       "1  Founders Fund, Draper Fisher Jurvetson, Rothen...                10   \n",
       "2  Tiger Global Management, Sequoia Capital China...                10   \n",
       "3        Khosla Ventures, LowercaseCapital, capitalG                 4   \n",
       "4  Institutional Venture Partners, Sequoia Capita...                 6   \n",
       "\n",
       "  High Valuation  Continent Number  Country/Region Numeric  \\\n",
       "0           high                 2                       9   \n",
       "1           high                 1                      44   \n",
       "2           high                 2                       9   \n",
       "3           high                 1                      44   \n",
       "4           high                 3                      38   \n",
       "\n",
       "   Artificial intelligence  Auto & transportation  Consumer & retail  \\\n",
       "0                        1                      0                  0   \n",
       "1                        0                      0                  0   \n",
       "2                        0                      0                  0   \n",
       "3                        0                      0                  0   \n",
       "4                        0                      0                  0   \n",
       "\n",
       "   Cybersecurity  Data management & analytics  \\\n",
       "0              0                            0   \n",
       "1              0                            0   \n",
       "2              0                            0   \n",
       "3              0                            0   \n",
       "4              0                            0   \n",
       "\n",
       "   E-commerce & direct-to-consumer  Edtech  Fintech  Hardware  Health  \\\n",
       "0                                0       0        0         0       0   \n",
       "1                                0       0        0         0       0   \n",
       "2                                1       0        0         0       0   \n",
       "3                                0       0        1         0       0   \n",
       "4                                0       0        1         0       0   \n",
       "\n",
       "   Internet software & services  Mobile & telecommunications  Other  \\\n",
       "0                             0                            0      0   \n",
       "1                             0                            0      1   \n",
       "2                             0                            0      0   \n",
       "3                             0                            0      0   \n",
       "4                             0                            0      0   \n",
       "\n",
       "   Supply chain, logistics, & delivery  Travel  \n",
       "0                                    0       0  \n",
       "1                                    0       0  \n",
       "2                                    0       0  \n",
       "3                                    0       0  \n",
       "4                                    0       0  "
      ]
     },
     "execution_count": 21,
     "metadata": {},
     "output_type": "execute_result"
    }
   ],
   "source": [
    "companies.head()"
   ]
  },
  {
   "cell_type": "markdown",
   "id": "8c0ad0b1",
   "metadata": {
    "id": "134ad302-4b98-4ae4-881f-3938734ccb64"
   },
   "source": [
    "Label encoding changes the data by assigning each category a unique number instead of a qualitative value. "
   ]
  },
  {
   "cell_type": "markdown",
   "id": "008d0b6b",
   "metadata": {
    "id": "93504377-6ae2-444c-8bc6-4930784f8714"
   },
   "source": [
    "Label encoding is useful in machine learning models, because many types of machine learning require all variables to be of a numeric data type."
   ]
  },
  {
   "cell_type": "markdown",
   "id": "79c934ad",
   "metadata": {
    "id": "493fead8-2986-420e-a1ed-ad9b2109ef0a"
   },
   "source": [
    "Label encoding may make it more difficult to directly interpet what a column value represents. Further, it may introduce unintended relationships between the categorical data in a dataset."
   ]
  },
  {
   "cell_type": "markdown",
   "id": "b85ffc40",
   "metadata": {
    "id": "c77e7f0f-d2b9-4464-8a7c-9575d1e1ef9f"
   },
   "source": [
    "## Conclusion\n",
    "\n",
    "* Input validation is essential for ensuring data is high quality and error-free.\n",
    "* In practice, input validation requires trial and error to identify issues and determine the best way to fix them.\n",
    "* There are benefits and disadvantages to both label encoding and dummy/one-hot encoding.\n",
    "* The decision to use label encoding versus dummy/one-hot encoding needs to be made on a case-by-case basis."
   ]
  }
 ],
 "metadata": {
  "colab": {
   "collapsed_sections": [],
   "provenance": []
  },
  "kernelspec": {
   "display_name": "Python 3 (ipykernel)",
   "language": "python",
   "name": "python3"
  },
  "language_info": {
   "codemirror_mode": {
    "name": "ipython",
    "version": 3
   },
   "file_extension": ".py",
   "mimetype": "text/x-python",
   "name": "python",
   "nbconvert_exporter": "python",
   "pygments_lexer": "ipython3",
   "version": "3.10.9"
  },
  "toc-autonumbering": false,
  "toc-showtags": false
 },
 "nbformat": 4,
 "nbformat_minor": 5
}
